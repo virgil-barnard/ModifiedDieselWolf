{
 "cells": [
  {
   "cell_type": "markdown",
   "id": "0550b502",
   "metadata": {},
   "source": [
    "# DieselWolf Dataset Tutorial\n",
    "This notebook demonstrates how to generate I/Q samples using the `DigitalModulationDataset` and visualize them."
   ]
  },
  {
   "cell_type": "code",
   "execution_count": null,
   "id": "8f0daefc",
   "metadata": {},
   "outputs": [],
   "source": [
    "import make_paths_absolute\n",
    "from dieselwolf.data import DigitalModulationDataset\n",
    "from dieselwolf.data.TransformsRF import AWGN\n",
    "import matplotlib.pyplot as plt\n",
    "%matplotlib inline"
   ]
  },
  {
   "cell_type": "markdown",
   "id": "5b1c1304",
   "metadata": {},
   "source": [
    "## Create the dataset\n",
    "We generate a small dataset with only a few examples for demonstration."
   ]
  },
  {
   "cell_type": "code",
   "execution_count": null,
   "id": "cb219feb",
   "metadata": {},
   "outputs": [],
   "source": [
    "dataset = DigitalModulationDataset(num_examples=2, num_samples=128, transform=AWGN(10))\n",
    "print('Classes:', dataset.classes)\n",
    "print('Dataset length:', len(dataset))"
   ]
  },
  {
   "cell_type": "markdown",
   "id": "2964e1c1",
   "metadata": {},
   "source": [
    "## Visualize an example\n",
    "The dataset returns a dictionary containing the I/Q data and metadata. We can plot the in-phase and quadrature components."
   ]
  },
  {
   "cell_type": "code",
   "execution_count": null,
   "id": "178a8d23",
   "metadata": {},
   "outputs": [],
   "source": [
    "item = dataset[0]\n",
    "iq = item['data']\n",
    "plt.figure(figsize=(10,3))\n",
    "plt.plot(iq[0], label='I')\n",
    "plt.plot(iq[1], label='Q')\n",
    "plt.title(f'Modulation: {dataset.classes[item['label']]}')\n",
    "plt.xlabel('Sample')\n",
    "plt.ylabel('Amplitude')\n",
    "plt.legend()\n",
    "plt.show()"
   ]
  },
  {
   "cell_type": "markdown",
   "id": "f106c8ad",
   "metadata": {},
   "source": [
    "## Using in a DataLoader\n",
    "We can wrap the dataset in a PyTorch `DataLoader` for batching during training."
   ]
  },
  {
   "cell_type": "code",
   "execution_count": null,
   "id": "9fb173a3",
   "metadata": {},
   "outputs": [],
   "source": [
    "from torch.utils.data import DataLoader\n",
    "loader = DataLoader(dataset, batch_size=2)\n",
    "batch = next(iter(loader))\n",
    "print(batch['data'].shape)"
   ]
  },
  {
   "cell_type": "markdown",
   "id": "0c7c98fe",
   "metadata": {},
   "source": [
    "This concludes the basic dataset overview."
   ]
  }
 ],
 "metadata": {
  "kernelspec": {
   "display_name": "Python 3 (ipykernel)",
   "language": "python",
   "name": "python3"
  },
  "language_info": {
   "codemirror_mode": {
    "name": "ipython",
    "version": 3
   },
   "file_extension": ".py",
   "mimetype": "text/x-python",
   "name": "python",
   "nbconvert_exporter": "python",
   "pygments_lexer": "ipython3",
   "version": "3.12.3"
  }
 },
 "nbformat": 4,
 "nbformat_minor": 5
}
