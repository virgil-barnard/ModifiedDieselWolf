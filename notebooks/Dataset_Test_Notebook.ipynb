{
 "cells": [
  {
   "cell_type": "markdown",
   "metadata": {},
   "source": [
    "### Simple test notebook for both dataset classes and channel transforms"
   ]
  },
  {
   "cell_type": "code",
   "execution_count": null,
   "metadata": {
    "ExecuteTime": {
     "end_time": "2021-09-30T22:05:56.023519Z",
     "start_time": "2021-09-30T22:05:09.143594Z"
    }
   },
   "outputs": [],
   "source": [
    "import make_paths_absolute\n",
    "from dieselwolf.data.DigitalModulations import DigitalModulationDataset, DigitalDemodulationDataset\n",
    "from dieselwolf.data.TransformsRF import * #transforms\n",
    "import torchvision\n",
    "import torch\n",
    "import numpy as np"
   ]
  },
  {
   "cell_type": "code",
   "execution_count": null,
   "metadata": {
    "ExecuteTime": {
     "end_time": "2021-09-30T22:06:31.746272Z",
     "start_time": "2021-09-30T22:06:24.271988Z"
    }
   },
   "outputs": [],
   "source": [
    "#Quick Test\n",
    "import matplotlib.pyplot as plt\n",
    "\n",
    "channel = torchvision.transforms.Compose([Random_Fading(0.1,2.0),RandomCarrierFrequency(.01),RandomAWGN(0,40),\n",
    "                                                 Normalize_Amplitude(amp=2)])\n",
    "testset = DigitalModulationDataset(1,num_samples=512,transform=None)\n",
    "\n",
    "fig,ax = plt.subplots(4,3,figsize=(18,9))\n",
    "for i,a,t in zip(np.arange(0,12,1),ax.ravel(),testset.classes):\n",
    "    a.plot(testset.__getitem__(i)['data'][0])\n",
    "    a.plot(testset.__getitem__(i)['data'][1])\n",
    "    a.set_title(t)\n",
    "plt.tight_layout()\n",
    "plt.show()"
   ]
  },
  {
   "cell_type": "code",
   "execution_count": null,
   "metadata": {
    "ExecuteTime": {
     "end_time": "2021-09-30T22:09:29.844137Z",
     "start_time": "2021-09-30T22:09:28.202460Z"
    }
   },
   "outputs": [],
   "source": [
    "#Quick Test\n",
    "import matplotlib.pyplot as plt\n",
    "\n",
    "channel = torchvision.transforms.Compose([Random_Amplitude_Fading(0.1,2.0),RandomCarrierFrequency(.01),RandomAWGN(0,40),\n",
    "                                                 Normalize_Amplitude(amp=2)])\n",
    "testset = DigitalDemodulationDataset(1,num_samples=512,transform=channel)\n",
    "\n",
    "fig,ax = plt.subplots(4,3,figsize=(18,9))\n",
    "for i,a,t in zip(np.arange(0,12,1),ax.ravel(),testset.classes):\n",
    "    a.plot(testset.__getitem__(i)['data'][0])\n",
    "    a.plot(testset.__getitem__(i)['data'][1])\n",
    "    a.set_title(t + ', Message: ' + str(testset.__getitem__(i)['message'][0:10])[1:-1] + ' .....')\n",
    "plt.tight_layout()\n",
    "plt.show()"
   ]
  },
  {
   "cell_type": "code",
   "execution_count": null,
   "metadata": {},
   "outputs": [],
   "source": []
  }
 ],
 "metadata": {
  "interpreter": {
   "hash": "ed3eb84f330cce54519371bb354dd3a2694dded599dfbd33db113ab58ae39758"
  },
  "kernelspec": {
   "display_name": "Python 3 (ipykernel)",
   "language": "python",
   "name": "python3"
  },
  "language_info": {
   "codemirror_mode": {
    "name": "ipython",
    "version": 3
   },
   "file_extension": ".py",
   "mimetype": "text/x-python",
   "name": "python",
   "nbconvert_exporter": "python",
   "pygments_lexer": "ipython3",
   "version": "3.12.3"
  },
  "toc": {
   "base_numbering": 1,
   "nav_menu": {},
   "number_sections": true,
   "sideBar": true,
   "skip_h1_title": false,
   "title_cell": "Table of Contents",
   "title_sidebar": "Contents",
   "toc_cell": false,
   "toc_position": {},
   "toc_section_display": true,
   "toc_window_display": false
  }
 },
 "nbformat": 4,
 "nbformat_minor": 4
}
