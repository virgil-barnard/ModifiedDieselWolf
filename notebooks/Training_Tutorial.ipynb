{
 "cells": [
  {
   "cell_type": "markdown",
   "id": "2efb333c",
   "metadata": {},
   "source": [
    "# DieselWolf Training Tutorial\n",
    "This notebook trains a simple AMR classifier using PyTorch Lightning. The goal is to illustrate the training loop and callbacks provided in the repository."
   ]
  },
  {
   "cell_type": "code",
   "execution_count": null,
   "id": "88c2b406",
   "metadata": {},
   "outputs": [],
   "source": [
    "import make_paths_absolute\n",
    "from dieselwolf.data import DigitalModulationDataset\n",
    "from dieselwolf.data.TransformsRF import AWGN\n",
    "from dieselwolf.models import AMRClassifier, ConfigurableMobileRaT, ConfigurableCNN\n",
    "from dieselwolf.callbacks import SNRCurriculumCallback, ConfusionMatrixCallback\n",
    "import pytorch_lightning as pl\n",
    "from pytorch_lightning.callbacks import LearningRateMonitor\n",
    "from torch.utils.data import DataLoader"
   ]
  },
  {
   "cell_type": "code",
   "execution_count": null,
   "id": "8a1e8938",
   "metadata": {
    "tags": [
     "parameters"
    ]
   },
   "outputs": [],
   "source": [
    "train_ds = DigitalModulationDataset(num_examples=50, num_samples=128, transform=AWGN(20))\n",
    "val_ds = DigitalModulationDataset(num_examples=50, num_samples=128, transform=AWGN(0))\n",
    "train_loader = DataLoader(train_ds, batch_size=2, shuffle=True)\n",
    "val_loader = DataLoader(val_ds, batch_size=2)"
   ]
  },
  {
   "cell_type": "code",
   "execution_count": null,
   "id": "c518fefc",
   "metadata": {},
   "outputs": [],
   "source": [
    "test_ds = DigitalModulationDataset(num_examples=20, num_samples=128, transform=AWGN(0))\n",
    "test_loader = DataLoader(test_ds, batch_size=2)"
   ]
  },
  {
   "cell_type": "code",
   "execution_count": null,
   "id": "f02a943e",
   "metadata": {
    "tags": [
     "parameters"
    ]
   },
   "outputs": [],
   "source": [
    "backbone = ConfigurableCNN(seq_len=128, num_classes=len(train_ds.classes))\n",
    "model = AMRClassifier(backbone, num_classes=len(train_ds.classes), warmup_steps=0)"
   ]
  },
  {
   "cell_type": "code",
   "execution_count": null,
   "id": "faa5952f",
   "metadata": {},
   "outputs": [],
   "source": [
    "callbacks = [\n",
    "    LearningRateMonitor(),\n",
    "    SNRCurriculumCallback(train_ds, start_snr=20, min_snr=-20, step=1, patience=2),\n",
    "    ConfusionMatrixCallback(test_loader, output_dir=\"confusion_images\"),\n",
    "]\n",
    "trainer = pl.Trainer(max_epochs=20, enable_progress_bar=True, callbacks=callbacks)\n",
    "trainer.fit(model, train_loader, val_loader)"
   ]
  },
  {
   "cell_type": "markdown",
   "id": "99326a63",
   "metadata": {},
   "source": [
    "The model trains for a single epoch for speed. In a real experiment you would run for many more epochs."
   ]
  },
  {
   "cell_type": "markdown",
   "id": "b1f074b6",
   "metadata": {},
   "source": [
    "The `ConfusionMatrixCallback` saves images under `confusion_images/` each epoch."
   ]
  }
 ],
 "metadata": {
  "kernelspec": {
   "display_name": "Python 3 (ipykernel)",
   "language": "python",
   "name": "python3"
  },
  "language_info": {
   "codemirror_mode": {
    "name": "ipython",
    "version": 3
   },
   "file_extension": ".py",
   "mimetype": "text/x-python",
   "name": "python",
   "nbconvert_exporter": "python",
   "pygments_lexer": "ipython3",
   "version": "3.12.3"
  }
 },
 "nbformat": 4,
 "nbformat_minor": 5
}
