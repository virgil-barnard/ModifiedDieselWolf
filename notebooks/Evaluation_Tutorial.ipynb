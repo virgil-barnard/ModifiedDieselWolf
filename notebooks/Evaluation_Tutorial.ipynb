{
 "cells": [
  {
   "cell_type": "markdown",
   "id": "248d2e2f",
   "metadata": {},
   "source": [
    "# DieselWolf Evaluation Tutorial\n",
    "This notebook demonstrates how to compute evaluation metrics and visualize results."
   ]
  },
  {
   "cell_type": "code",
   "execution_count": null,
   "id": "cfffa273",
   "metadata": {},
   "outputs": [],
   "source": [
    "from dieselwolf.metrics import accuracy_per_snr, confusion_at_0db\n",
    "import torch\n",
    "import matplotlib.pyplot as plt\n",
    "%matplotlib inline"
   ]
  },
  {
   "cell_type": "markdown",
   "id": "022e176a",
   "metadata": {},
   "source": [
    "## Generate dummy predictions\n",
    "For demonstration we create random predictions and SNR values."
   ]
  },
  {
   "cell_type": "code",
   "execution_count": null,
   "id": "7a97963d",
   "metadata": {},
   "outputs": [],
   "source": [
    "targets = torch.tensor([0,1,0,1,0,1])\n",
    "preds = torch.tensor([0,1,1,1,0,0])\n",
    "snr = torch.tensor([0,0,5,5,10,10])"
   ]
  },
  {
   "cell_type": "markdown",
   "id": "830e4e30",
   "metadata": {},
   "source": [
    "## Accuracy by SNR"
   ]
  },
  {
   "cell_type": "code",
   "execution_count": null,
   "id": "e110f614",
   "metadata": {},
   "outputs": [],
   "source": [
    "acc = accuracy_per_snr(preds, targets, snr)\n",
    "plt.bar(acc.keys(), acc.values())\n",
    "plt.xlabel('SNR (dB)')\n",
    "plt.ylabel('Accuracy')\n",
    "plt.show()"
   ]
  },
  {
   "cell_type": "markdown",
   "id": "0c896fbb",
   "metadata": {},
   "source": [
    "## Confusion matrix at 0 dB"
   ]
  },
  {
   "cell_type": "code",
   "execution_count": null,
   "id": "2e4d30a6",
   "metadata": {},
   "outputs": [],
   "source": [
    "cm = confusion_at_0db(preds, targets, snr)\n",
    "print(cm)"
   ]
  },
  {
   "cell_type": "markdown",
   "id": "04fc75dc",
   "metadata": {},
   "source": [
    "These utilities help benchmark models under different conditions."
   ]
  }
 ],
 "metadata": {},
 "nbformat": 4,
 "nbformat_minor": 5
}
