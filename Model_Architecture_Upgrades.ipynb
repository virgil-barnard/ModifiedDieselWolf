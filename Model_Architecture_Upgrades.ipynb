{
 "cells": [
  {
   "cell_type": "markdown",
   "metadata": {},
   "source": [
    "## Demonstrating upgraded architectures\n",
    "This notebook shows how to instantiate the new complex-valued backbones."
   ]
  },
  {
   "cell_type": "code",
   "execution_count": null,
   "metadata": {},
   "outputs": [],
   "source": [
    "import torch\n",
    "from dieselwolf.models import MobileRaT, NMformer\n",
    "\n",
    "x = torch.randn(2, 2, 32)\n",
    "model_rat = MobileRaT(seq_len=32, num_classes=3)\n",
    "model_nm = NMformer(seq_len=32, num_classes=3, num_noise_tokens=4)\n",
    "\n",
    "out_rat = model_rat(x)\n",
    "out_nm = model_nm(x)\n",
    "print(out_rat.shape, out_nm.shape)"
   ]
  }
 ],
 "metadata": {
  "kernelspec": {
   "display_name": "Python 3",
   "language": "python",
   "name": "python3"
  },
  "language_info": {
   "name": "python",
   "version": "3.12"
  }
 },
 "nbformat": 4,
 "nbformat_minor": 4
}
